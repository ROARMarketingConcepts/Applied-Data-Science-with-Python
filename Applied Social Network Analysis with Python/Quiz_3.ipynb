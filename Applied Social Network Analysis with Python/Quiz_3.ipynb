{
  "nbformat": 4,
  "nbformat_minor": 0,
  "metadata": {
    "colab": {
      "name": "Quiz 3.ipynb",
      "provenance": [],
      "collapsed_sections": []
    },
    "kernelspec": {
      "name": "python3",
      "display_name": "Python 3"
    }
  },
  "cells": [
    {
      "cell_type": "code",
      "metadata": {
        "id": "uynxAqKWsFUu",
        "colab_type": "code",
        "colab": {}
      },
      "source": [
        "import pandas as pd\n",
        "import networkx as nx"
      ],
      "execution_count": 0,
      "outputs": []
    },
    {
      "cell_type": "code",
      "metadata": {
        "id": "zAeWc8cgsHyY",
        "colab_type": "code",
        "colab": {}
      },
      "source": [
        "G = nx.Graph()\n",
        "G.add_edges_from([('A','B'),('B','D'),('A','C'),('C','D'),('C','E'),('D','E'),('D','G'),('E','G'),('G','F')])"
      ],
      "execution_count": 0,
      "outputs": []
    },
    {
      "cell_type": "markdown",
      "metadata": {
        "id": "gjAe2R0jMyjJ",
        "colab_type": "text"
      },
      "source": [
        "1. What is the degree centrality of node D?"
      ]
    },
    {
      "cell_type": "code",
      "metadata": {
        "id": "7uu56vd-M9b5",
        "colab_type": "code",
        "colab": {
          "base_uri": "https://localhost:8080/",
          "height": 34
        },
        "outputId": "2f7d490d-5c41-47ef-b964-124d6da7d5d0"
      },
      "source": [
        "dc = nx.degree_centrality(G)\n",
        "dc['D']"
      ],
      "execution_count": 16,
      "outputs": [
        {
          "output_type": "execute_result",
          "data": {
            "text/plain": [
              "0.6666666666666666"
            ]
          },
          "metadata": {
            "tags": []
          },
          "execution_count": 16
        }
      ]
    },
    {
      "cell_type": "markdown",
      "metadata": {
        "id": "6S55LQlvNUUM",
        "colab_type": "text"
      },
      "source": [
        "2. What is the closeness centrality of node G?"
      ]
    },
    {
      "cell_type": "code",
      "metadata": {
        "id": "NtypYxfmNiHr",
        "colab_type": "code",
        "colab": {
          "base_uri": "https://localhost:8080/",
          "height": 34
        },
        "outputId": "bd68c85c-30ea-40c1-c8ae-aca7ce2d5866"
      },
      "source": [
        "cc = nx.closeness_centrality(G)\n",
        "cc['G']"
      ],
      "execution_count": 17,
      "outputs": [
        {
          "output_type": "execute_result",
          "data": {
            "text/plain": [
              "0.6"
            ]
          },
          "metadata": {
            "tags": []
          },
          "execution_count": 17
        }
      ]
    },
    {
      "cell_type": "markdown",
      "metadata": {
        "id": "jww3owONOHpR",
        "colab_type": "text"
      },
      "source": [
        "3. What is the normalized betweenness centrality (excluding endpoints) of node G?"
      ]
    },
    {
      "cell_type": "code",
      "metadata": {
        "id": "QdLq4YWUN8lv",
        "colab_type": "code",
        "colab": {
          "base_uri": "https://localhost:8080/",
          "height": 34
        },
        "outputId": "14596cf0-bba2-4a3f-dda4-551cb69e6e28"
      },
      "source": [
        "bc = nx.betweenness_centrality(G,normalized=True, endpoints=False)\n",
        "bc['G']"
      ],
      "execution_count": 20,
      "outputs": [
        {
          "output_type": "execute_result",
          "data": {
            "text/plain": [
              "0.3333333333333333"
            ]
          },
          "metadata": {
            "tags": []
          },
          "execution_count": 20
        }
      ]
    },
    {
      "cell_type": "markdown",
      "metadata": {
        "id": "VMRMrzsDOhqU",
        "colab_type": "text"
      },
      "source": [
        "4. What is the betweenness centrality without normalization of edge (G,F)?"
      ]
    },
    {
      "cell_type": "code",
      "metadata": {
        "id": "eamZQm9XO9dY",
        "colab_type": "code",
        "colab": {
          "base_uri": "https://localhost:8080/",
          "height": 34
        },
        "outputId": "872c210f-57da-4ea5-894e-8768eec2dcef"
      },
      "source": [
        "ebc = nx.edge_betweenness_centrality(G,normalized=False)\n",
        "ebc[('G','F')]"
      ],
      "execution_count": 23,
      "outputs": [
        {
          "output_type": "execute_result",
          "data": {
            "text/plain": [
              "6.0"
            ]
          },
          "metadata": {
            "tags": []
          },
          "execution_count": 23
        }
      ]
    },
    {
      "cell_type": "code",
      "metadata": {
        "id": "ERSWmkIOQwKD",
        "colab_type": "code",
        "colab": {}
      },
      "source": [
        "G1 = nx.DiGraph()\n",
        "G1.add_edges_from([('A','B'),('B','A'),('A','C'),('C','D'),('D','C')])"
      ],
      "execution_count": 0,
      "outputs": []
    },
    {
      "cell_type": "markdown",
      "metadata": {
        "id": "75GAsSE7Rtkl",
        "colab_type": "text"
      },
      "source": [
        "7. Which value of alpha (damping parameter) in the NetworkX function pagerank maximizes the PageRank of node D?"
      ]
    },
    {
      "cell_type": "code",
      "metadata": {
        "id": "PsTSRujQR9yE",
        "colab_type": "code",
        "colab": {
          "base_uri": "https://localhost:8080/",
          "height": 34
        },
        "outputId": "bbb22a7c-21bf-46f6-88cf-1572d2396df1"
      },
      "source": [
        "alphas = [0.95,0.5,0.9,0.8]\n",
        "final_alpha = 0\n",
        "score = 0\n",
        "\n",
        "for alpha in alphas:\n",
        "  page_rank = nx.pagerank(G1,alpha=alpha)\n",
        "  if page_rank['D'] > score:\n",
        "    score = page_rank['D']\n",
        "    final_alpha = alpha\n",
        "\n",
        "final_alpha, score"
      ],
      "execution_count": 32,
      "outputs": [
        {
          "output_type": "execute_result",
          "data": {
            "text/plain": [
              "(0.95, 0.4555778814326893)"
            ]
          },
          "metadata": {
            "tags": []
          },
          "execution_count": 32
        }
      ]
    },
    {
      "cell_type": "code",
      "metadata": {
        "id": "Us1kWrEUUves",
        "colab_type": "code",
        "colab": {}
      },
      "source": [
        "G2 = nx.DiGraph()\n",
        "G2.add_edges_from([('A','B'),('B','C'),('C','A'),('A','C'),('D','C')])"
      ],
      "execution_count": 0,
      "outputs": []
    },
    {
      "cell_type": "markdown",
      "metadata": {
        "id": "OCRo4xfRVSG_",
        "colab_type": "text"
      },
      "source": [
        "8. What is the basic PR of node C at step k = 1?"
      ]
    },
    {
      "cell_type": "code",
      "metadata": {
        "id": "rqpFmHCZVmti",
        "colab_type": "code",
        "colab": {
          "base_uri": "https://localhost:8080/",
          "height": 34
        },
        "outputId": "4549415c-5d58-4791-9da0-ce39760fe907"
      },
      "source": [
        "page_rank = nx.pagerank(G2)\n",
        "page_rank['C']"
      ],
      "execution_count": 35,
      "outputs": [
        {
          "output_type": "execute_result",
          "data": {
            "text/plain": [
              "0.39415009931985023"
            ]
          },
          "metadata": {
            "tags": []
          },
          "execution_count": 35
        }
      ]
    }
  ]
}