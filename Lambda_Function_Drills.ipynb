{
  "nbformat": 4,
  "nbformat_minor": 0,
  "metadata": {
    "colab": {
      "name": "Lambda Function Drills.ipynb",
      "provenance": [],
      "collapsed_sections": [],
      "authorship_tag": "ABX9TyMc9Z3WMTeFDp7klIDRAutS",
      "include_colab_link": true
    },
    "kernelspec": {
      "name": "python3",
      "display_name": "Python 3"
    },
    "language_info": {
      "name": "python"
    }
  },
  "cells": [
    {
      "cell_type": "markdown",
      "metadata": {
        "id": "view-in-github",
        "colab_type": "text"
      },
      "source": [
        "<a href=\"https://colab.research.google.com/github/ROARMarketingConcepts/Applied-Data-Science-with-Python-Specialization/blob/master/Lambda_Function_Drills.ipynb\" target=\"_parent\"><img src=\"https://colab.research.google.com/assets/colab-badge.svg\" alt=\"Open In Colab\"/></a>"
      ]
    },
    {
      "cell_type": "markdown",
      "source": [
        "Write a `lambda` function that takes $x$ as parameter and returns $x+2$. Then assign it to a variable named $L$."
      ],
      "metadata": {
        "id": "il-wjJR-yIMr"
      }
    },
    {
      "cell_type": "code",
      "execution_count": null,
      "metadata": {
        "colab": {
          "base_uri": "https://localhost:8080/"
        },
        "id": "EzV9y-AOyFDZ",
        "outputId": "aba34844-1d49-48d7-e754-6e0a687c081f"
      },
      "outputs": [
        {
          "output_type": "execute_result",
          "data": {
            "text/plain": [
              "8"
            ]
          },
          "metadata": {},
          "execution_count": 4
        }
      ],
      "source": [
        "i=6\n",
        "\n",
        "L=lambda x:x+2\n",
        "\n",
        "L(6)"
      ]
    },
    {
      "cell_type": "markdown",
      "source": [
        "Write a `lambda` function which takes $z$ as a parameter and returns $z*11$. Assign it to variable named: $f$."
      ],
      "metadata": {
        "id": "vY_0tL4by8p5"
      }
    },
    {
      "cell_type": "code",
      "source": [
        "i=2\n",
        "\n",
        "f=lambda x:x*11\n",
        "\n",
        "f(2)"
      ],
      "metadata": {
        "colab": {
          "base_uri": "https://localhost:8080/"
        },
        "id": "7kWdxtpZzbiL",
        "outputId": "d83a673a-c195-47a5-8c2c-b7e177c4bf89"
      },
      "execution_count": null,
      "outputs": [
        {
          "output_type": "execute_result",
          "data": {
            "text/plain": [
              "22"
            ]
          },
          "metadata": {},
          "execution_count": 5
        }
      ]
    },
    {
      "cell_type": "markdown",
      "source": [
        "Write a function which takes two arguments: $a$ and $b$ and returns the product of them: $a*b$. Assign it to a variable named: $f$."
      ],
      "metadata": {
        "id": "Sucz5z0t0BNG"
      }
    },
    {
      "cell_type": "code",
      "source": [
        "a,b=2,3\n",
        "\n",
        "f=lambda a,b:a*b\n",
        "\n",
        "f(a,b)"
      ],
      "metadata": {
        "colab": {
          "base_uri": "https://localhost:8080/"
        },
        "id": "wpV1Eywi0SUJ",
        "outputId": "e8990c83-b3b8-48c2-95ec-22ab7212127f"
      },
      "execution_count": null,
      "outputs": [
        {
          "output_type": "execute_result",
          "data": {
            "text/plain": [
              "6"
            ]
          },
          "metadata": {},
          "execution_count": 7
        }
      ]
    },
    {
      "cell_type": "markdown",
      "source": [
        "Using `.sort()` method, create a `lambda` function that sorts a list in descending order without using the `reverse` parameter.\n",
        "\n",
        "(Hint: `lambda` will be passed to sort method's key parameter as argument)"
      ],
      "metadata": {
        "id": "A5haelaL1Gcl"
      }
    },
    {
      "cell_type": "code",
      "source": [
        "lst=[100,10,1000,1,9,999,99]\n",
        "\n",
        "lst.sort(key=lambda x: 1/x)\n",
        "\n",
        "lst"
      ],
      "metadata": {
        "colab": {
          "base_uri": "https://localhost:8080/"
        },
        "id": "2Mfh-ME91iaX",
        "outputId": "fbee1975-1c6c-48c6-a814-d9f8ea5f3933"
      },
      "execution_count": null,
      "outputs": [
        {
          "output_type": "execute_result",
          "data": {
            "text/plain": [
              "[1000, 999, 100, 99, 10, 9, 1]"
            ]
          },
          "metadata": {},
          "execution_count": 9
        }
      ]
    },
    {
      "cell_type": "markdown",
      "source": [
        "Use the `sort()` function to sort the list in ascending order with `lambda`."
      ],
      "metadata": {
        "id": "g08qi7qd2ftQ"
      }
    },
    {
      "cell_type": "code",
      "source": [
        "lst=[100,10,1000,1,9,999,99]\n",
        "\n",
        "lst.sort(key=lambda x:x)\n",
        "\n",
        "lst"
      ],
      "metadata": {
        "colab": {
          "base_uri": "https://localhost:8080/"
        },
        "id": "qnR0fCHW3K-D",
        "outputId": "3469e7ee-49f9-4962-f121-edef491cd199"
      },
      "execution_count": null,
      "outputs": [
        {
          "output_type": "execute_result",
          "data": {
            "text/plain": [
              "[1, 9, 10, 99, 100, 999, 1000]"
            ]
          },
          "metadata": {},
          "execution_count": 10
        }
      ]
    },
    {
      "cell_type": "markdown",
      "source": [
        "Using the `sort()` function and `lambda`, sort the words in the list based on their second letter from a to z."
      ],
      "metadata": {
        "id": "jxqrKMIY33b6"
      }
    },
    {
      "cell_type": "code",
      "source": [
        "lst=[\"otter\", \"whale\", \"goose\", \"chipmunk\", \"fox\", \"sheep\", \"rabbit\", \"marten\"]\n",
        "#Type your answer here.\n",
        "\n",
        "lst.sort(key=lambda x:x[1])\n",
        "\n",
        "print(lst)"
      ],
      "metadata": {
        "colab": {
          "base_uri": "https://localhost:8080/"
        },
        "id": "lIm5FiJM3zDG",
        "outputId": "e1276a3e-eb36-4d06-98c3-542c40343c69"
      },
      "execution_count": null,
      "outputs": [
        {
          "output_type": "stream",
          "name": "stdout",
          "text": [
            "['rabbit', 'marten', 'whale', 'chipmunk', 'sheep', 'goose', 'fox', 'otter']\n"
          ]
        }
      ]
    },
    {
      "cell_type": "markdown",
      "source": [
        "Using the `sort()` function and `lambda`, sort the tuples in the list based on the second items."
      ],
      "metadata": {
        "id": "BBFKvdgP5Com"
      }
    },
    {
      "cell_type": "code",
      "source": [
        "lst=[(19542209, \"New York\") ,(4887871, \"Alabama\"), (1420491, \"Hawaii\"), (626299, \"Vermont\"), (1805832, \"West Virginia\"), (39865590, \"California\")]\n",
        "#Type your answer here.\n",
        "\n",
        "lst.sort(key=lambda x:x[1])\n",
        "\n",
        "print(lst)"
      ],
      "metadata": {
        "colab": {
          "base_uri": "https://localhost:8080/"
        },
        "id": "wpXLEV3o52i5",
        "outputId": "593fd141-f641-4dc3-b1b4-9e4a37b0bde8"
      },
      "execution_count": null,
      "outputs": [
        {
          "output_type": "stream",
          "name": "stdout",
          "text": [
            "[(4887871, 'Alabama'), (39865590, 'California'), (1420491, 'Hawaii'), (19542209, 'New York'), (626299, 'Vermont'), (1805832, 'West Virginia')]\n"
          ]
        }
      ]
    },
    {
      "cell_type": "markdown",
      "source": [
        "Using the `sort()` function and `lambda`, sort the tuples in the list based on the last character of the second items."
      ],
      "metadata": {
        "id": "rIb78xQ1Dz_a"
      }
    },
    {
      "cell_type": "code",
      "source": [
        "lst=[(19542209, \"New York\") ,(4887871, \"Alabama\"), (1420491, \"Hawaii\"), (626299, \"Vermont\"), (1805832, \"West Virginia\"), (39865590, \"California\")]\n",
        "#Type your answer here.\n",
        "\n",
        "lst.sort(key=lambda x:x[1][-1])\n",
        "\n",
        "print(lst)"
      ],
      "metadata": {
        "colab": {
          "base_uri": "https://localhost:8080/"
        },
        "id": "O_HQGaH3EHC8",
        "outputId": "4ba72552-59e1-4924-883a-73363b2169da"
      },
      "execution_count": null,
      "outputs": [
        {
          "output_type": "stream",
          "name": "stdout",
          "text": [
            "[(4887871, 'Alabama'), (1805832, 'West Virginia'), (39865590, 'California'), (1420491, 'Hawaii'), (19542209, 'New York'), (626299, 'Vermont')]\n"
          ]
        }
      ]
    },
    {
      "cell_type": "markdown",
      "source": [
        "Using the `sort()` function, `reverse` parameter and `lambda`, sort the tuples in the list based on the last character of the second items in reverse order."
      ],
      "metadata": {
        "id": "9HByW_XeEk2z"
      }
    },
    {
      "cell_type": "code",
      "source": [
        "lst=[(19542209, \"New York\") ,(4887871, \"Alabama\"), (1420491, \"Hawaii\"), (626299, \"Vermont\"), (1805832, \"West Virginia\"), (39865590, \"California\")]\n",
        "#Type your answer here.\n",
        "\n",
        "lst=sorted(lst,key=lambda x:x[1][-1],reverse=True)\n",
        "\n",
        "print(lst)"
      ],
      "metadata": {
        "colab": {
          "base_uri": "https://localhost:8080/"
        },
        "id": "6RYr8ZidEzjq",
        "outputId": "0a41083a-8e4f-47bb-8f5a-2b2c2699aa83"
      },
      "execution_count": null,
      "outputs": [
        {
          "output_type": "stream",
          "name": "stdout",
          "text": [
            "[(626299, 'Vermont'), (19542209, 'New York'), (1420491, 'Hawaii'), (4887871, 'Alabama'), (1805832, 'West Virginia'), (39865590, 'California')]\n"
          ]
        }
      ]
    },
    {
      "cell_type": "markdown",
      "source": [
        "The `map()` function runs a `lambda` function over a list, building a list-like collection of the results, like this:"
      ],
      "metadata": {
        "id": "_izLZT0DHEo3"
      }
    },
    {
      "cell_type": "code",
      "source": [
        "list(map(lambda n: n * 2, [1, 2, 3, 4, 5]))"
      ],
      "metadata": {
        "colab": {
          "base_uri": "https://localhost:8080/"
        },
        "id": "qwB9WEMUHQBT",
        "outputId": "0f0f3205-8c70-4b07-b055-a96b24a5cb98"
      },
      "execution_count": null,
      "outputs": [
        {
          "output_type": "execute_result",
          "data": {
            "text/plain": [
              "[2, 4, 6, 8, 10]"
            ]
          },
          "metadata": {},
          "execution_count": 20
        }
      ]
    },
    {
      "cell_type": "markdown",
      "source": [
        "Another example...."
      ],
      "metadata": {
        "id": "Cu2UTi-2Hsbz"
      }
    },
    {
      "cell_type": "code",
      "source": [
        "nums = [1, 2, 3, 4, 5]\n",
        "\n",
        "map(lambda n: 2 * n, nums) "
      ],
      "metadata": {
        "colab": {
          "base_uri": "https://localhost:8080/"
        },
        "id": "w9dngPrBHvB2",
        "outputId": "73fbc736-ad93-44e6-ecca-984ab4501d5f"
      },
      "execution_count": null,
      "outputs": [
        {
          "output_type": "execute_result",
          "data": {
            "text/plain": [
              "<map at 0x7fee0e2521d0>"
            ]
          },
          "metadata": {},
          "execution_count": 21
        }
      ]
    },
    {
      "cell_type": "code",
      "source": [
        "list(map(lambda n: 2 * n, nums))"
      ],
      "metadata": {
        "colab": {
          "base_uri": "https://localhost:8080/"
        },
        "id": "uFJhFKoNH7Am",
        "outputId": "37e27688-ddcd-43cd-8aeb-ff1a1210a1d7"
      },
      "execution_count": null,
      "outputs": [
        {
          "output_type": "execute_result",
          "data": {
            "text/plain": [
              "[2, 4, 6, 8, 10]"
            ]
          },
          "metadata": {},
          "execution_count": 22
        }
      ]
    },
    {
      "cell_type": "code",
      "source": [
        "strs = ['Summer', 'is', 'coming']\n",
        "\n",
        "list(map(lambda s: s.upper() + '!', strs))"
      ],
      "metadata": {
        "colab": {
          "base_uri": "https://localhost:8080/"
        },
        "id": "bXn7T-dFIjgy",
        "outputId": "125a9b7d-e163-4c88-efe1-88ecd3ddebf4"
      },
      "execution_count": null,
      "outputs": [
        {
          "output_type": "execute_result",
          "data": {
            "text/plain": [
              "['SUMMER!', 'IS!', 'COMING!']"
            ]
          },
          "metadata": {},
          "execution_count": 23
        }
      ]
    },
    {
      "cell_type": "markdown",
      "source": [
        "Populate a table using a `lambda` function."
      ],
      "metadata": {
        "id": "EzRDnpxFL7aA"
      }
    },
    {
      "cell_type": "code",
      "source": [
        "tables = [lambda x=x: x*10 for x in range(1, 11)]\n",
        "  \n",
        "for table in tables:\n",
        "    print(table())"
      ],
      "metadata": {
        "id": "Y8UEp9wpLzru",
        "outputId": "04767332-9b02-43c7-d3ff-68e60b758be4",
        "colab": {
          "base_uri": "https://localhost:8080/"
        }
      },
      "execution_count": 1,
      "outputs": [
        {
          "output_type": "stream",
          "name": "stdout",
          "text": [
            "10\n",
            "20\n",
            "30\n",
            "40\n",
            "50\n",
            "60\n",
            "70\n",
            "80\n",
            "90\n",
            "100\n"
          ]
        }
      ]
    },
    {
      "cell_type": "markdown",
      "source": [
        "Example of `lambda` function using `if-else`"
      ],
      "metadata": {
        "id": "Jp2MiUDzMT33"
      }
    },
    {
      "cell_type": "code",
      "source": [
        "Max = lambda a, b : a if(a > b) else b\n",
        "  \n",
        "print(Max(1, 2))"
      ],
      "metadata": {
        "id": "4fvuMc2vMQMd",
        "outputId": "85833c97-a7ee-4c79-ee59-1a9a982cf038",
        "colab": {
          "base_uri": "https://localhost:8080/"
        }
      },
      "execution_count": 2,
      "outputs": [
        {
          "output_type": "stream",
          "name": "stdout",
          "text": [
            "2\n"
          ]
        }
      ]
    },
    {
      "cell_type": "code",
      "source": [
        "List = [[2,3,4],[1, 4, 16, 64],[3, 6, 9, 12]]\n",
        "  \n",
        "# Sort each sublist\n",
        "sortList = lambda x: (sorted(i) for i in x)\n",
        "\n",
        "# Get the second largest element\n",
        "secondLargest = lambda x, f : [y[len(y)-2] for y in f(x)]\n",
        "res = secondLargest(List, sortList)\n",
        "  \n",
        "print(res)"
      ],
      "metadata": {
        "id": "7egP5tLvNKvc",
        "outputId": "c04d94ca-f8b3-41e1-bff8-aecff7255212",
        "colab": {
          "base_uri": "https://localhost:8080/"
        }
      },
      "execution_count": 7,
      "outputs": [
        {
          "output_type": "stream",
          "name": "stdout",
          "text": [
            "[3, 16, 9]\n"
          ]
        }
      ]
    },
    {
      "cell_type": "markdown",
      "source": [
        "Python code to illustrate `map()` with `lambda()`."
      ],
      "metadata": {
        "id": "97S8_Iv7Q3OC"
      }
    },
    {
      "cell_type": "code",
      "source": [
        "animals = ['dog', 'cat', 'parrot', 'rabbit']\n",
        "  \n",
        "# here we intend to change all animal names\n",
        "# to upper case and return the same\n",
        "uppered_animals = map(lambda animal: str.upper(animal), animals)\n",
        "  \n",
        "for animal in uppered_animals:\n",
        "  print(animal)"
      ],
      "metadata": {
        "id": "AHyqHbq6PxDw",
        "outputId": "7bf29122-c6f7-432f-c069-a3f8977c4a9f",
        "colab": {
          "base_uri": "https://localhost:8080/"
        }
      },
      "execution_count": 15,
      "outputs": [
        {
          "output_type": "stream",
          "name": "stdout",
          "text": [
            "DOG\n",
            "CAT\n",
            "PARROT\n",
            "RABBIT\n"
          ]
        }
      ]
    }
  ]
}