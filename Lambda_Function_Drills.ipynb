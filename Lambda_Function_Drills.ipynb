{
  "nbformat": 4,
  "nbformat_minor": 0,
  "metadata": {
    "colab": {
      "name": "Lambda Function Drills.ipynb",
      "provenance": [],
      "collapsed_sections": [],
      "authorship_tag": "ABX9TyOARH2bjwfsSWnYxJRK+2s2",
      "include_colab_link": true
    },
    "kernelspec": {
      "name": "python3",
      "display_name": "Python 3"
    },
    "language_info": {
      "name": "python"
    }
  },
  "cells": [
    {
      "cell_type": "markdown",
      "metadata": {
        "id": "view-in-github",
        "colab_type": "text"
      },
      "source": [
        "<a href=\"https://colab.research.google.com/github/ROARMarketingConcepts/Applied-Data-Science-with-Python-Specialization/blob/master/Lambda_Function_Drills.ipynb\" target=\"_parent\"><img src=\"https://colab.research.google.com/assets/colab-badge.svg\" alt=\"Open In Colab\"/></a>"
      ]
    },
    {
      "cell_type": "markdown",
      "source": [
        "Write a `lambda` function that takes $x$ as parameter and returns $x+2$. Then assign it to a variable named $L$."
      ],
      "metadata": {
        "id": "il-wjJR-yIMr"
      }
    },
    {
      "cell_type": "code",
      "execution_count": null,
      "metadata": {
        "colab": {
          "base_uri": "https://localhost:8080/"
        },
        "id": "EzV9y-AOyFDZ",
        "outputId": "aba34844-1d49-48d7-e754-6e0a687c081f"
      },
      "outputs": [
        {
          "output_type": "execute_result",
          "data": {
            "text/plain": [
              "8"
            ]
          },
          "metadata": {},
          "execution_count": 4
        }
      ],
      "source": [
        "i=6\n",
        "\n",
        "L=lambda x:x+2\n",
        "\n",
        "L(6)"
      ]
    },
    {
      "cell_type": "markdown",
      "source": [
        "Write a `lambda` function which takes $z$ as a parameter and returns $z*11$. Assign it to variable named: $f$."
      ],
      "metadata": {
        "id": "vY_0tL4by8p5"
      }
    },
    {
      "cell_type": "code",
      "source": [
        "i=2\n",
        "\n",
        "f=lambda x:x*11\n",
        "\n",
        "f(2)"
      ],
      "metadata": {
        "colab": {
          "base_uri": "https://localhost:8080/"
        },
        "id": "7kWdxtpZzbiL",
        "outputId": "d83a673a-c195-47a5-8c2c-b7e177c4bf89"
      },
      "execution_count": null,
      "outputs": [
        {
          "output_type": "execute_result",
          "data": {
            "text/plain": [
              "22"
            ]
          },
          "metadata": {},
          "execution_count": 5
        }
      ]
    },
    {
      "cell_type": "markdown",
      "source": [
        "Write a function which takes two arguments: $a$ and $b$ and returns the product of them: $a*b$. Assign it to a variable named: $f$."
      ],
      "metadata": {
        "id": "Sucz5z0t0BNG"
      }
    },
    {
      "cell_type": "code",
      "source": [
        "a,b=2,3\n",
        "\n",
        "f=lambda a,b:a*b\n",
        "\n",
        "f(a,b)"
      ],
      "metadata": {
        "colab": {
          "base_uri": "https://localhost:8080/"
        },
        "id": "wpV1Eywi0SUJ",
        "outputId": "e8990c83-b3b8-48c2-95ec-22ab7212127f"
      },
      "execution_count": null,
      "outputs": [
        {
          "output_type": "execute_result",
          "data": {
            "text/plain": [
              "6"
            ]
          },
          "metadata": {},
          "execution_count": 7
        }
      ]
    },
    {
      "cell_type": "markdown",
      "source": [
        "Using `.sort()` method, create a `lambda` function that sorts a list in descending order without using the `reverse` parameter.\n",
        "\n",
        "(Hint: `lambda` will be passed to sort method's key parameter as argument)"
      ],
      "metadata": {
        "id": "A5haelaL1Gcl"
      }
    },
    {
      "cell_type": "code",
      "source": [
        "lst=[100,10,1000,1,9,999,99]\n",
        "\n",
        "lst.sort(key=lambda x: 1/x)\n",
        "\n",
        "lst"
      ],
      "metadata": {
        "colab": {
          "base_uri": "https://localhost:8080/"
        },
        "id": "2Mfh-ME91iaX",
        "outputId": "fbee1975-1c6c-48c6-a814-d9f8ea5f3933"
      },
      "execution_count": null,
      "outputs": [
        {
          "output_type": "execute_result",
          "data": {
            "text/plain": [
              "[1000, 999, 100, 99, 10, 9, 1]"
            ]
          },
          "metadata": {},
          "execution_count": 9
        }
      ]
    },
    {
      "cell_type": "markdown",
      "source": [
        "Use the `sort()` function to sort the list in ascending order with `lambda`."
      ],
      "metadata": {
        "id": "g08qi7qd2ftQ"
      }
    },
    {
      "cell_type": "code",
      "source": [
        "lst=[100,10,1000,1,9,999,99]\n",
        "\n",
        "lst.sort(key=lambda x:x)\n",
        "\n",
        "lst"
      ],
      "metadata": {
        "colab": {
          "base_uri": "https://localhost:8080/"
        },
        "id": "qnR0fCHW3K-D",
        "outputId": "3469e7ee-49f9-4962-f121-edef491cd199"
      },
      "execution_count": null,
      "outputs": [
        {
          "output_type": "execute_result",
          "data": {
            "text/plain": [
              "[1, 9, 10, 99, 100, 999, 1000]"
            ]
          },
          "metadata": {},
          "execution_count": 10
        }
      ]
    },
    {
      "cell_type": "markdown",
      "source": [
        "Using the `sort()` function and `lambda`, sort the words in the list based on their second letter from a to z."
      ],
      "metadata": {
        "id": "jxqrKMIY33b6"
      }
    },
    {
      "cell_type": "code",
      "source": [
        "lst=[\"otter\", \"whale\", \"goose\", \"chipmunk\", \"fox\", \"sheep\", \"rabbit\", \"marten\"]\n",
        "#Type your answer here.\n",
        "\n",
        "lst.sort(key=lambda x:x[1])\n",
        "\n",
        "print(lst)"
      ],
      "metadata": {
        "colab": {
          "base_uri": "https://localhost:8080/"
        },
        "id": "lIm5FiJM3zDG",
        "outputId": "e1276a3e-eb36-4d06-98c3-542c40343c69"
      },
      "execution_count": null,
      "outputs": [
        {
          "output_type": "stream",
          "name": "stdout",
          "text": [
            "['rabbit', 'marten', 'whale', 'chipmunk', 'sheep', 'goose', 'fox', 'otter']\n"
          ]
        }
      ]
    },
    {
      "cell_type": "markdown",
      "source": [
        "Using the `sort()` function and `lambda`, sort the tuples in the list based on the second items."
      ],
      "metadata": {
        "id": "BBFKvdgP5Com"
      }
    },
    {
      "cell_type": "code",
      "source": [
        "lst=[(19542209, \"New York\") ,(4887871, \"Alabama\"), (1420491, \"Hawaii\"), (626299, \"Vermont\"), (1805832, \"West Virginia\"), (39865590, \"California\")]\n",
        "#Type your answer here.\n",
        "\n",
        "lst.sort(key=lambda x:x[1])\n",
        "\n",
        "print(lst)"
      ],
      "metadata": {
        "colab": {
          "base_uri": "https://localhost:8080/"
        },
        "id": "wpXLEV3o52i5",
        "outputId": "593fd141-f641-4dc3-b1b4-9e4a37b0bde8"
      },
      "execution_count": null,
      "outputs": [
        {
          "output_type": "stream",
          "name": "stdout",
          "text": [
            "[(4887871, 'Alabama'), (39865590, 'California'), (1420491, 'Hawaii'), (19542209, 'New York'), (626299, 'Vermont'), (1805832, 'West Virginia')]\n"
          ]
        }
      ]
    },
    {
      "cell_type": "markdown",
      "source": [
        "Using the `sort()` function and `lambda`, sort the tuples in the list based on the last character of the second items."
      ],
      "metadata": {
        "id": "rIb78xQ1Dz_a"
      }
    },
    {
      "cell_type": "code",
      "source": [
        "lst=[(19542209, \"New York\") ,(4887871, \"Alabama\"), (1420491, \"Hawaii\"), (626299, \"Vermont\"), (1805832, \"West Virginia\"), (39865590, \"California\")]\n",
        "#Type your answer here.\n",
        "\n",
        "lst.sort(key=lambda x:x[1][-1])\n",
        "\n",
        "print(lst)"
      ],
      "metadata": {
        "colab": {
          "base_uri": "https://localhost:8080/"
        },
        "id": "O_HQGaH3EHC8",
        "outputId": "4ba72552-59e1-4924-883a-73363b2169da"
      },
      "execution_count": null,
      "outputs": [
        {
          "output_type": "stream",
          "name": "stdout",
          "text": [
            "[(4887871, 'Alabama'), (1805832, 'West Virginia'), (39865590, 'California'), (1420491, 'Hawaii'), (19542209, 'New York'), (626299, 'Vermont')]\n"
          ]
        }
      ]
    },
    {
      "cell_type": "markdown",
      "source": [
        "Using the `sort()` function, `reverse` parameter and `lambda`, sort the tuples in the list based on the last character of the second items in reverse order."
      ],
      "metadata": {
        "id": "9HByW_XeEk2z"
      }
    },
    {
      "cell_type": "code",
      "source": [
        "lst=[(19542209, \"New York\") ,(4887871, \"Alabama\"), (1420491, \"Hawaii\"), (626299, \"Vermont\"), (1805832, \"West Virginia\"), (39865590, \"California\")]\n",
        "#Type your answer here.\n",
        "\n",
        "lst=sorted(lst,key=lambda x:x[1][-1],reverse=True)\n",
        "\n",
        "print(lst)"
      ],
      "metadata": {
        "colab": {
          "base_uri": "https://localhost:8080/"
        },
        "id": "6RYr8ZidEzjq",
        "outputId": "0a41083a-8e4f-47bb-8f5a-2b2c2699aa83"
      },
      "execution_count": null,
      "outputs": [
        {
          "output_type": "stream",
          "name": "stdout",
          "text": [
            "[(626299, 'Vermont'), (19542209, 'New York'), (1420491, 'Hawaii'), (4887871, 'Alabama'), (1805832, 'West Virginia'), (39865590, 'California')]\n"
          ]
        }
      ]
    },
    {
      "cell_type": "markdown",
      "source": [
        "The `map()` function runs a `lambda` function over a list, building a list-like collection of the results, like this:"
      ],
      "metadata": {
        "id": "_izLZT0DHEo3"
      }
    },
    {
      "cell_type": "code",
      "source": [
        "list(map(lambda n: n * 2, [1, 2, 3, 4, 5]))"
      ],
      "metadata": {
        "colab": {
          "base_uri": "https://localhost:8080/"
        },
        "id": "qwB9WEMUHQBT",
        "outputId": "0f0f3205-8c70-4b07-b055-a96b24a5cb98"
      },
      "execution_count": null,
      "outputs": [
        {
          "output_type": "execute_result",
          "data": {
            "text/plain": [
              "[2, 4, 6, 8, 10]"
            ]
          },
          "metadata": {},
          "execution_count": 20
        }
      ]
    },
    {
      "cell_type": "markdown",
      "source": [
        "Another example...."
      ],
      "metadata": {
        "id": "Cu2UTi-2Hsbz"
      }
    },
    {
      "cell_type": "code",
      "source": [
        "nums = [1, 2, 3, 4, 5]\n",
        "\n",
        "map(lambda n: 2 * n, nums) "
      ],
      "metadata": {
        "colab": {
          "base_uri": "https://localhost:8080/"
        },
        "id": "w9dngPrBHvB2",
        "outputId": "73fbc736-ad93-44e6-ecca-984ab4501d5f"
      },
      "execution_count": null,
      "outputs": [
        {
          "output_type": "execute_result",
          "data": {
            "text/plain": [
              "<map at 0x7fee0e2521d0>"
            ]
          },
          "metadata": {},
          "execution_count": 21
        }
      ]
    },
    {
      "cell_type": "code",
      "source": [
        "list(map(lambda n: 2 * n, nums))"
      ],
      "metadata": {
        "colab": {
          "base_uri": "https://localhost:8080/"
        },
        "id": "uFJhFKoNH7Am",
        "outputId": "37e27688-ddcd-43cd-8aeb-ff1a1210a1d7"
      },
      "execution_count": null,
      "outputs": [
        {
          "output_type": "execute_result",
          "data": {
            "text/plain": [
              "[2, 4, 6, 8, 10]"
            ]
          },
          "metadata": {},
          "execution_count": 22
        }
      ]
    },
    {
      "cell_type": "code",
      "source": [
        "strs = ['Summer', 'is', 'coming']\n",
        "\n",
        "list(map(lambda s: s.upper() + '!', strs))"
      ],
      "metadata": {
        "colab": {
          "base_uri": "https://localhost:8080/"
        },
        "id": "bXn7T-dFIjgy",
        "outputId": "125a9b7d-e163-4c88-efe1-88ecd3ddebf4"
      },
      "execution_count": null,
      "outputs": [
        {
          "output_type": "execute_result",
          "data": {
            "text/plain": [
              "['SUMMER!', 'IS!', 'COMING!']"
            ]
          },
          "metadata": {},
          "execution_count": 23
        }
      ]
    },
    {
      "cell_type": "code",
      "source": [
        "x =\"GeeksforGeeks\"\n",
        "  \n",
        "# lambda gets pass to print\n",
        "(lambda x : print(x))(x)"
      ],
      "metadata": {
        "id": "ggiPKFafJeVY",
        "outputId": "fa0cfacb-348e-444d-de8b-d7f9fe6f4b2c",
        "colab": {
          "base_uri": "https://localhost:8080/"
        }
      },
      "execution_count": null,
      "outputs": [
        {
          "output_type": "stream",
          "name": "stdout",
          "text": [
            "GeeksforGeeks\n"
          ]
        }
      ]
    },
    {
      "cell_type": "markdown",
      "source": [
        "Using the `map()`, `lambda` and `count()` functions, create a list which consists of the number of occurences of letter: $a$."
      ],
      "metadata": {
        "id": "N_DVVU9-e304"
      }
    },
    {
      "cell_type": "code",
      "source": [
        "lst1=[\"Alaska\", \"Alabama\", \"Arizona\", \"Arkansas\", \"Colorado\", \"Montana\", \"Nevada\"]\n",
        "#Type your answer here.\n",
        "\n",
        "lst2=map(lambda x:x.count(\"a\"),lst1)\n",
        "\n",
        "for count in lst2:\n",
        "  print(count)"
      ],
      "metadata": {
        "colab": {
          "base_uri": "https://localhost:8080/"
        },
        "id": "VnioldPxgK6C",
        "outputId": "7c353de4-404f-4b30-8200-e930efa3a7ff"
      },
      "execution_count": 2,
      "outputs": [
        {
          "output_type": "stream",
          "name": "stdout",
          "text": [
            "2\n",
            "3\n",
            "1\n",
            "2\n",
            "1\n",
            "2\n",
            "2\n"
          ]
        }
      ]
    },
    {
      "cell_type": "markdown",
      "source": [
        "Using the `map()`, `lambda` and `count()` functions, create a list which consists of the number of occurences of both letters: $a$ and $A$."
      ],
      "metadata": {
        "id": "_QEUSo-Ohd5y"
      }
    },
    {
      "cell_type": "code",
      "source": [
        "lst1=[\"Alaska\", \"Alabama\", \"Arizona\", \"Arkansas\", \"Colorado\", \"Montana\", \"Nevada\"]\n",
        "#Type your answer here.\n",
        "\n",
        "lst2=map(lambda x:x.lower().count(\"a\"),lst1)\n",
        "\n",
        "for count in lst2:\n",
        "  print(count)"
      ],
      "metadata": {
        "colab": {
          "base_uri": "https://localhost:8080/"
        },
        "id": "SVBM6i9khsIs",
        "outputId": "10505d12-b0d8-4bcd-fb44-066ae8b80306"
      },
      "execution_count": 3,
      "outputs": [
        {
          "output_type": "stream",
          "name": "stdout",
          "text": [
            "3\n",
            "4\n",
            "2\n",
            "3\n",
            "1\n",
            "2\n",
            "2\n"
          ]
        }
      ]
    }
  ]
}